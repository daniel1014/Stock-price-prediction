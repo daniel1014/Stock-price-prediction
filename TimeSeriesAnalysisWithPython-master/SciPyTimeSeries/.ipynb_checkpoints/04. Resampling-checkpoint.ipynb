{
 "cells": [
  {
   "cell_type": "code",
   "execution_count": 1,
   "metadata": {
    "collapsed": true
   },
   "outputs": [],
   "source": [
    "import pandas as pd\n",
    "import numpy as np"
   ]
  },
  {
   "cell_type": "code",
   "execution_count": 10,
   "metadata": {
    "collapsed": false
   },
   "outputs": [],
   "source": [
    "rng = pd.date_range('1/1/2011', periods = 72, freq = 'H')\n",
    "ts = pd.Series(list(range(len(rng))), index = rng)"
   ]
  },
  {
   "cell_type": "code",
   "execution_count": 23,
   "metadata": {
    "collapsed": true
   },
   "outputs": [],
   "source": [
    "converted = ts.asfreq('45Min', method = 'ffill')"
   ]
  },
  {
   "cell_type": "markdown",
   "metadata": {},
   "source": [
    "### What does the above code do to the size and content of your data frame?"
   ]
  },
  {
   "cell_type": "code",
   "execution_count": 24,
   "metadata": {
    "collapsed": false
   },
   "outputs": [
    {
     "data": {
      "text/plain": [
       "2011-01-01 00:45:00    0\n",
       "2011-01-01 01:30:00    1\n",
       "2011-01-01 02:15:00    2\n",
       "2011-01-01 03:00:00    3\n",
       "2011-01-01 03:45:00    3\n",
       "2011-01-01 04:30:00    4\n",
       "2011-01-01 05:15:00    5\n",
       "2011-01-01 06:00:00    6\n",
       "2011-01-01 06:45:00    6\n",
       "Freq: 45T, dtype: int64"
      ]
     },
     "execution_count": 24,
     "metadata": {},
     "output_type": "execute_result"
    }
   ],
   "source": [
    "converted[1:10]"
   ]
  },
  {
   "cell_type": "code",
   "execution_count": 15,
   "metadata": {
    "collapsed": false
   },
   "outputs": [
    {
     "data": {
      "text/plain": [
       "2011-01-01 01:00:00    1\n",
       "2011-01-01 02:00:00    2\n",
       "2011-01-01 03:00:00    3\n",
       "2011-01-01 04:00:00    4\n",
       "2011-01-01 05:00:00    5\n",
       "2011-01-01 06:00:00    6\n",
       "2011-01-01 07:00:00    7\n",
       "2011-01-01 08:00:00    8\n",
       "2011-01-01 09:00:00    9\n",
       "Freq: H, dtype: int64"
      ]
     },
     "execution_count": 15,
     "metadata": {},
     "output_type": "execute_result"
    }
   ],
   "source": [
    "ts[1:10]"
   ]
  },
  {
   "cell_type": "markdown",
   "metadata": {},
   "source": [
    "### Take a look at the specs for .asfreq(). What are your options for filling in missing data?"
   ]
  },
  {
   "cell_type": "code",
   "execution_count": null,
   "metadata": {
    "collapsed": true
   },
   "outputs": [],
   "source": []
  },
  {
   "cell_type": "markdown",
   "metadata": {},
   "source": [
    "### How can you go to less frequent rather than more frequent?"
   ]
  },
  {
   "cell_type": "code",
   "execution_count": 17,
   "metadata": {
    "collapsed": true
   },
   "outputs": [],
   "source": [
    "converted = ts.asfreq('3H')"
   ]
  },
  {
   "cell_type": "code",
   "execution_count": 19,
   "metadata": {
    "collapsed": false
   },
   "outputs": [
    {
     "data": {
      "text/plain": [
       "2011-01-01 03:00:00     3\n",
       "2011-01-01 06:00:00     6\n",
       "2011-01-01 09:00:00     9\n",
       "2011-01-01 12:00:00    12\n",
       "2011-01-01 15:00:00    15\n",
       "2011-01-01 18:00:00    18\n",
       "2011-01-01 21:00:00    21\n",
       "2011-01-02 00:00:00    24\n",
       "2011-01-02 03:00:00    27\n",
       "Freq: 3H, dtype: int64"
      ]
     },
     "execution_count": 19,
     "metadata": {},
     "output_type": "execute_result"
    }
   ],
   "source": [
    "converted[1:10]"
   ]
  },
  {
   "cell_type": "code",
   "execution_count": 20,
   "metadata": {
    "collapsed": false
   },
   "outputs": [
    {
     "data": {
      "text/plain": [
       "2011-01-01 01:00:00    1\n",
       "2011-01-01 02:00:00    2\n",
       "2011-01-01 03:00:00    3\n",
       "2011-01-01 04:00:00    4\n",
       "2011-01-01 05:00:00    5\n",
       "2011-01-01 06:00:00    6\n",
       "2011-01-01 07:00:00    7\n",
       "2011-01-01 08:00:00    8\n",
       "2011-01-01 09:00:00    9\n",
       "Freq: H, dtype: int64"
      ]
     },
     "execution_count": 20,
     "metadata": {},
     "output_type": "execute_result"
    }
   ],
   "source": [
    "ts[1:10]"
   ]
  },
  {
   "cell_type": "code",
   "execution_count": 42,
   "metadata": {
    "collapsed": false
   },
   "outputs": [
    {
     "data": {
      "text/plain": [
       "2011-01-01 02:00:00     2.5\n",
       "2011-01-01 04:00:00     4.5\n",
       "2011-01-01 06:00:00     6.5\n",
       "2011-01-01 08:00:00     8.5\n",
       "2011-01-01 10:00:00    10.5\n",
       "2011-01-01 12:00:00    12.5\n",
       "2011-01-01 14:00:00    14.5\n",
       "2011-01-01 16:00:00    16.5\n",
       "2011-01-01 18:00:00    18.5\n",
       "Freq: 2H, dtype: float64"
      ]
     },
     "execution_count": 42,
     "metadata": {},
     "output_type": "execute_result"
    }
   ],
   "source": [
    "# Let's try the more flexible .resample()\n",
    "ts.resample('2H').mean()[1:10]"
   ]
  },
  {
   "cell_type": "code",
   "execution_count": 51,
   "metadata": {
    "collapsed": false
   },
   "outputs": [],
   "source": [
    "# What's particularly useful is that we can use reample to event out irregular time series\n",
    "irreg_ts = ts[list(np.random.choice(a = list(range(len(ts))), size = 10, replace = False))]"
   ]
  },
  {
   "cell_type": "code",
   "execution_count": 60,
   "metadata": {
    "collapsed": false
   },
   "outputs": [
    {
     "data": {
      "text/plain": [
       "2011-01-03 13:00:00    61\n",
       "2011-01-02 21:00:00    45\n",
       "2011-01-01 15:00:00    15\n",
       "2011-01-03 16:00:00    64\n",
       "2011-01-02 08:00:00    32\n",
       "2011-01-03 06:00:00    54\n",
       "2011-01-03 22:00:00    70\n",
       "2011-01-03 10:00:00    58\n",
       "2011-01-03 23:00:00    71\n",
       "2011-01-01 09:00:00     9\n",
       "dtype: int64"
      ]
     },
     "execution_count": 60,
     "metadata": {},
     "output_type": "execute_result"
    }
   ],
   "source": [
    "irreg_ts"
   ]
  },
  {
   "cell_type": "code",
   "execution_count": 61,
   "metadata": {
    "collapsed": false
   },
   "outputs": [
    {
     "data": {
      "text/plain": [
       "Series([], Freq: D, dtype: int64)"
      ]
     },
     "execution_count": 61,
     "metadata": {},
     "output_type": "execute_result"
    }
   ],
   "source": [
    "irreg_ts.asfreq('D')"
   ]
  },
  {
   "cell_type": "code",
   "execution_count": null,
   "metadata": {
    "collapsed": true
   },
   "outputs": [],
   "source": []
  },
  {
   "cell_type": "markdown",
   "metadata": {},
   "source": [
    "### Why didn't that work?"
   ]
  },
  {
   "cell_type": "code",
   "execution_count": 64,
   "metadata": {
    "collapsed": false
   },
   "outputs": [
    {
     "data": {
      "text/plain": [
       "2011-01-01 09:00:00     9\n",
       "2011-01-01 15:00:00    15\n",
       "2011-01-02 08:00:00    32\n",
       "2011-01-02 21:00:00    45\n",
       "2011-01-03 06:00:00    54\n",
       "2011-01-03 10:00:00    58\n",
       "2011-01-03 13:00:00    61\n",
       "2011-01-03 16:00:00    64\n",
       "2011-01-03 22:00:00    70\n",
       "2011-01-03 23:00:00    71\n",
       "dtype: int64"
      ]
     },
     "execution_count": 64,
     "metadata": {},
     "output_type": "execute_result"
    }
   ],
   "source": [
    "irreg_ts = irreg_ts.sort_index()\n",
    "irreg_ts"
   ]
  },
  {
   "cell_type": "code",
   "execution_count": 65,
   "metadata": {
    "collapsed": false
   },
   "outputs": [
    {
     "data": {
      "text/plain": [
       "2011-01-01 09:00:00    9.0\n",
       "2011-01-02 09:00:00    NaN\n",
       "2011-01-03 09:00:00    NaN\n",
       "Freq: D, dtype: float64"
      ]
     },
     "execution_count": 65,
     "metadata": {},
     "output_type": "execute_result"
    }
   ],
   "source": [
    "irreg_ts.asfreq('D')"
   ]
  },
  {
   "cell_type": "code",
   "execution_count": 67,
   "metadata": {
    "collapsed": false
   },
   "outputs": [
    {
     "data": {
      "text/plain": [
       "2011-01-01    2\n",
       "2011-01-02    2\n",
       "2011-01-03    6\n",
       "Freq: D, dtype: int64"
      ]
     },
     "execution_count": 67,
     "metadata": {},
     "output_type": "execute_result"
    }
   ],
   "source": [
    "irreg_ts.resample('D').count()"
   ]
  },
  {
   "cell_type": "markdown",
   "metadata": {},
   "source": [
    "# Quiz\n",
    "\n",
    "(1) What if you want to go to a higher frequency, but you don't want to back fill or forward fill? Why might you want to do that?\n",
    "\n",
    "(2) What is the difference between .ressample() and .asfreq()?\n",
    "\n",
    "(3) How can I forward-fill only a few days? (hint: .fillna())\n",
    "\n",
    "(4) What are some helpful functions to use with a Resampler object?"
   ]
  },
  {
   "cell_type": "code",
   "execution_count": null,
   "metadata": {
    "collapsed": true
   },
   "outputs": [],
   "source": []
  }
 ],
 "metadata": {
  "kernelspec": {
   "display_name": "Python 3",
   "language": "python",
   "name": "python3"
  },
  "language_info": {
   "codemirror_mode": {
    "name": "ipython",
    "version": 3
   },
   "file_extension": ".py",
   "mimetype": "text/x-python",
   "name": "python",
   "nbconvert_exporter": "python",
   "pygments_lexer": "ipython3",
   "version": "3.5.2"
  },
  "widgets": {
   "state": {},
   "version": "1.1.1"
  }
 },
 "nbformat": 4,
 "nbformat_minor": 0
}
